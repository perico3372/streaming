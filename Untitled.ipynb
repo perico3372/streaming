{
 "cells": [
  {
   "cell_type": "code",
   "execution_count": 14,
   "id": "02314377-3041-436e-967a-08498bbff40c",
   "metadata": {},
   "outputs": [
    {
     "name": "stdout",
     "output_type": "stream",
     "text": [
      "Archivo CSV 'streaming/netflix_titles.csv' convertido a Parquet 'netflix_titles.parquet'\n"
     ]
    }
   ],
   "source": [
    "import pandas as pd\n",
    "import pyarrow as pa\n",
    "import pyarrow.parquet as pq\n",
    "\n",
    "# Ruta del archivo CSV de entrada y ruta del archivo Parquet de salida\n",
    "csv_file = 'streaming/netflix_titles.csv'\n",
    "parquet_file = 'netflix_titles.parquet'\n",
    "\n",
    "# Leer el archivo CSV usando pandas\n",
    "df = pd.read_csv(csv_file)\n",
    "\n",
    "# Convertir el DataFrame de pandas a un Table de pyarrow\n",
    "table = pa.Table.from_pandas(df)\n",
    "\n",
    "# Escribir el archivo Parquet\n",
    "pq.write_table(table, parquet_file)\n",
    "\n",
    "print(f\"Archivo CSV '{csv_file}' convertido a Parquet '{parquet_file}'\")\n"
   ]
  },
  {
   "cell_type": "code",
   "execution_count": null,
   "id": "091548b5-8c5c-4892-aaad-733207695b42",
   "metadata": {},
   "outputs": [],
   "source": []
  },
  {
   "cell_type": "code",
   "execution_count": null,
   "id": "8b0abf59-ab1c-465b-97dc-ac4531408a2f",
   "metadata": {},
   "outputs": [],
   "source": []
  },
  {
   "cell_type": "code",
   "execution_count": null,
   "id": "8f488700-ca6f-4978-9fe2-62e61b425be1",
   "metadata": {},
   "outputs": [],
   "source": []
  },
  {
   "cell_type": "code",
   "execution_count": null,
   "id": "eefbea88-4f3f-4bb2-b412-bbd732ae8218",
   "metadata": {},
   "outputs": [],
   "source": []
  },
  {
   "cell_type": "code",
   "execution_count": null,
   "id": "ec2336fe-1224-4597-ae5e-ba43f1ae32cf",
   "metadata": {},
   "outputs": [],
   "source": []
  }
 ],
 "metadata": {
  "kernelspec": {
   "display_name": "Python 3 (ipykernel)",
   "language": "python",
   "name": "python3"
  },
  "language_info": {
   "codemirror_mode": {
    "name": "ipython",
    "version": 3
   },
   "file_extension": ".py",
   "mimetype": "text/x-python",
   "name": "python",
   "nbconvert_exporter": "python",
   "pygments_lexer": "ipython3",
   "version": "3.11.5"
  }
 },
 "nbformat": 4,
 "nbformat_minor": 5
}
